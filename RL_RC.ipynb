{
 "cells": [
  {
   "cell_type": "markdown",
   "metadata": {},
   "source": [
    "Son necesarias las librerias numpy, matplotlib, PySpice y ipywidgets"
   ]
  },
  {
   "cell_type": "code",
   "execution_count": 30,
   "metadata": {},
   "outputs": [],
   "source": [
    "import numpy as np\n",
    "import matplotlib.pyplot as plt\n",
    "\n",
    "import ipywidgets as widgets\n",
    "from ipywidgets import interact\n",
    "\n",
    "from PySpice.Plot.BodeDiagram import bode_diagram\n",
    "from PySpice.Spice.Netlist import Circuit\n",
    "from PySpice.Unit import *\n",
    "import PySpice.Logging.Logging as Logging\n",
    "logger = Logging.setup_logging()"
   ]
  },
  {
   "cell_type": "code",
   "execution_count": 31,
   "metadata": {},
   "outputs": [],
   "source": [
    "# Texto en el botón\n",
    "button = widgets.Button(description=\"Guardar imagen\")\n",
    "\n",
    "# Texto indicando el nombre a asignar a la imagen junto a la caja de texto\n",
    "Text = widgets.Text(\n",
    "    value='',\n",
    "    description='Nombre de la imagen:',\n",
    "    disabled=False,\n",
    "    style= {'description_width': 'initial'}\n",
    ")\n",
    "\n",
    "# Botón para guardar la imagen, utilizando el texto que se ha escrito en la caja de texto como nombre\n",
    "@button.on_click\n",
    "def on_button_clicked(rest):\n",
    "    global figure\n",
    "    figure.savefig(Text.value + \".png\")"
   ]
  },
  {
   "cell_type": "markdown",
   "metadata": {},
   "source": [
    "Señal cuadrada circuito RL y RC con salida en L y C"
   ]
  },
  {
   "cell_type": "code",
   "execution_count": 32,
   "metadata": {},
   "outputs": [
    {
     "data": {
      "application/vnd.jupyter.widget-view+json": {
       "model_id": "00ffc325b7334321a80a4df94d2c8b97",
       "version_major": 2,
       "version_minor": 0
      },
      "text/plain": [
       "interactive(children=(FloatSlider(value=0.25, description='Pulse width', layout=Layout(width='500px'), max=0.3…"
      ]
     },
     "metadata": {},
     "output_type": "display_data"
    },
    {
     "data": {
      "application/vnd.jupyter.widget-view+json": {
       "model_id": "b4a1c059618046c9b72309a755af8802",
       "version_major": 2,
       "version_minor": 0
      },
      "text/plain": [
       "Text(value='', description='Nombre de la imagen:', style=TextStyle(description_width='initial'))"
      ]
     },
     "metadata": {},
     "output_type": "display_data"
    },
    {
     "data": {
      "application/vnd.jupyter.widget-view+json": {
       "model_id": "17b4d4688e51411988cd8ebd2189a1c4",
       "version_major": 2,
       "version_minor": 0
      },
      "text/plain": [
       "Button(description='Guardar imagen', style=ButtonStyle())"
      ]
     },
     "metadata": {},
     "output_type": "display_data"
    }
   ],
   "source": [
    "# Plot interactivo\n",
    "def interactive_plot(pwidth):\n",
    "\n",
    "    global figure\n",
    "    figure, ax = plt.subplots(1, 1, figsize=(7, 4))\n",
    "\n",
    "    # Circuito 1. RL con salida en L aplicando una señal cuadrada de entrada\n",
    "    circuit = Circuit('RL con salida en L. Señal cuadrada')\n",
    "\n",
    "    # Se definen los elementos\n",
    "    source = circuit.PulseVoltageSource(1, 'in', circuit.gnd, initial_value=0@u_V, pulsed_value=10@u_V,\n",
    "                           pulse_width=pwidth@u_ms, period=2*pwidth@u_ms)\n",
    "    circuit.R(1, 'in', 'out', 220@u_Ω)\n",
    "    circuit.L(1, 'out', circuit.gnd, 10@u_mH)\n",
    "\n",
    "    # Se simula y analiza el circuito\n",
    "    simulator = circuit.simulator(temperature=25, nominal_temperature=25)\n",
    "    analysis = simulator.transient(step_time=source.period/200, end_time=source.period)\n",
    "\n",
    "    # Circuito 2. RC con salida en C aplicando una señal cuadrada de entrada\n",
    "    circuit2 = Circuit('RC con salida en C. Señal cuadrada')\n",
    "\n",
    "    # Se definen los elementos\n",
    "    source2 = circuit2.PulseVoltageSource(1, 'in', circuit.gnd, initial_value=0@u_V, pulsed_value=10@u_V,\n",
    "                           pulse_width=pwidth@u_ms, period=2*pwidth@u_ms)\n",
    "    circuit2.R(1, 'in', 'out', 220@u_Ω)\n",
    "    circuit2.C(1, 'out', circuit.gnd, 100@u_nF)\n",
    "\n",
    "    # Se simula y analiza el circuito\n",
    "    simulator2 = circuit2.simulator(temperature=25, nominal_temperature=25)\n",
    "    analysis2 = simulator2.transient(step_time=source2.period/200, end_time=source2.period)\n",
    "\n",
    "    # Función teórica\n",
    "    t=np.array(analysis.time)\n",
    "    Vf=10\n",
    "    tau=220*100*10**(-9)\n",
    "    v_s=Vf*(1-np.exp(-(t[:115]-10**(-6))/tau))\n",
    "\n",
    "    # Gráfica\n",
    "    ax.set_title('RL con salida en L y RC con salida en C. Señal cuadrada')\n",
    "    ax.set_xlabel('Tiempo [ms]')\n",
    "    ax.set_ylabel('Voltaje [V]')\n",
    "    ax.grid()\n",
    "    ax.plot(analysis.time*1000, analysis['in'])\n",
    "    ax.plot(analysis.time*1000, analysis['out'])\n",
    "    ax.plot(analysis2.time*1000, analysis2['out'])\n",
    "    ax.plot(t[:115]*1000, v_s)\n",
    "    ax.legend(('input', 'salida en L', 'salida en C', 'respuesta a la entrada teórica'), loc=(.05,.1))\n",
    "    ax.set_ylim(float(-source.pulsed_value*1.1), float(source.pulsed_value*1.1))\n",
    "\n",
    "# Slider que varía la anchura y el periodo del pulso\n",
    "sliderPulse_Width = widgets.FloatSlider(\n",
    "    value=0.25, \n",
    "    min=0.01, \n",
    "    max=0.3, \n",
    "    step=0.005,\n",
    "    description='Pulse width',\n",
    "    readout=True,\n",
    "    readout_format='.3f',\n",
    "    layout=widgets.Layout(width='500px')\n",
    ")\n",
    "# Llama al plot y los sliders\n",
    "interact(interactive_plot, pwidth=sliderPulse_Width)\n",
    "# Llama a la caja de texto y el botón de guardar imagen\n",
    "display(Text, button)"
   ]
  },
  {
   "cell_type": "markdown",
   "metadata": {},
   "source": [
    "Respuesta natural RL y RC"
   ]
  },
  {
   "cell_type": "code",
   "execution_count": 33,
   "metadata": {},
   "outputs": [
    {
     "data": {
      "application/vnd.jupyter.widget-view+json": {
       "model_id": "8dbe40d9d43d482fb9ac49de3a253413",
       "version_major": 2,
       "version_minor": 0
      },
      "text/plain": [
       "interactive(children=(FloatSlider(value=227.0, description='Final', layout=Layout(width='500px'), max=250.0, m…"
      ]
     },
     "metadata": {},
     "output_type": "display_data"
    },
    {
     "data": {
      "application/vnd.jupyter.widget-view+json": {
       "model_id": "b4a1c059618046c9b72309a755af8802",
       "version_major": 2,
       "version_minor": 0
      },
      "text/plain": [
       "Text(value='', description='Nombre de la imagen:', style=TextStyle(description_width='initial'))"
      ]
     },
     "metadata": {},
     "output_type": "display_data"
    },
    {
     "data": {
      "application/vnd.jupyter.widget-view+json": {
       "model_id": "17b4d4688e51411988cd8ebd2189a1c4",
       "version_major": 2,
       "version_minor": 0
      },
      "text/plain": [
       "Button(description='Guardar imagen', style=ButtonStyle())"
      ]
     },
     "metadata": {},
     "output_type": "display_data"
    }
   ],
   "source": [
    "# Plot interactivo\n",
    "def interactive_plot(finaltime):\n",
    "    # Respuesta al estado en un circuito RL\n",
    "    circuit = Circuit('Respuesta al estado. Circuito RL')\n",
    "\n",
    "    # Se definen los elementos\n",
    "    # Interruptor\n",
    "    circuit.model('switch', 'SW', Ron=1@u_mΩ, Roff=1@u_GΩ)\n",
    "    circuit.PulseVoltageSource(2, 'a', circuit.gnd,initial_value=1, pulsed_value=-1,\n",
    "                           pulse_width=finaltime@u_us, period=finaltime@u_us, delay_time=1@u_us)\n",
    "\n",
    "    circuit.PulseVoltageSource(3, 'b', circuit.gnd,initial_value=-1, pulsed_value=1,\n",
    "                           pulse_width=finaltime@u_us, period=finaltime@u_us, delay_time=1@u_us)\n",
    "    circuit.V(1, 1, circuit.gnd,   1@u_V)\n",
    "    circuit.VoltageControlledSwitch(1, 1, 'output', 'a', circuit.gnd, model='switch')\n",
    "    circuit.L(1, 'output', circuit.gnd, 10@u_mH)\n",
    "    circuit.VoltageControlledSwitch(2, 'output', 2, 'b', circuit.gnd, model='switch')\n",
    "    circuit.R(2, 2, circuit.gnd,           220@u_Ω)\n",
    "\n",
    "    # Se simula y analiza el circuito\n",
    "    simulator = circuit.simulator(temperature=25, nominal_temperature=25)\n",
    "    ic=0@u_V\n",
    "    simulator.initial_condition(output=ic)\n",
    "    analysis = simulator.transient(step_time=0.01@u_us, end_time=finaltime@u_us)\n",
    "\n",
    "    # Función teórica\n",
    "    time=np.array(analysis.time)\n",
    "    tau=0.01/220\n",
    "    i_s=np.max(analysis['L1']*1000)*np.exp(-(time-10**(-6))/tau)\n",
    "\n",
    "    # Gráfica\n",
    "    global figure\n",
    "    figure, ax = plt.subplots(figsize=(7, 4))\n",
    "\n",
    "    ax.set_title('Respuesta al estado. Circuito RL')\n",
    "    ax.set_xlabel('Tiempo [ms]')\n",
    "    ax.set_ylabel('Intensidad [mA]')\n",
    "    ax.grid()\n",
    "    ax.plot(analysis.time*1000, analysis['L1']*1000)\n",
    "    ax.plot(time*1000, i_s)\n",
    "    ax.legend(('output', 'teórico'), loc=(.05,.1))\n",
    "\n",
    "# Slider que varía el tiempo final\n",
    "sliderFinal = widgets.FloatSlider(\n",
    "    value=227, \n",
    "    min=100, \n",
    "    max=250, \n",
    "    step=0.1,\n",
    "    description='Final',\n",
    "    readout=True,\n",
    "    readout_format='.3f',\n",
    "    layout=widgets.Layout(width='500px')\n",
    ")\n",
    "\n",
    "# Llama al plot y los sliders\n",
    "interact(interactive_plot, finaltime=sliderFinal)\n",
    "\n",
    "# Llama a la caja de texto y el botón de guardar imagen\n",
    "display(Text, button)"
   ]
  },
  {
   "cell_type": "code",
   "execution_count": 34,
   "metadata": {},
   "outputs": [
    {
     "data": {
      "application/vnd.jupyter.widget-view+json": {
       "model_id": "0536ca38e5c74e9e8dda4c62357cc1e8",
       "version_major": 2,
       "version_minor": 0
      },
      "text/plain": [
       "interactive(children=(FloatSlider(value=0.01, description='Step', layout=Layout(width='500px'), max=3.0, min=0…"
      ]
     },
     "metadata": {},
     "output_type": "display_data"
    },
    {
     "data": {
      "application/vnd.jupyter.widget-view+json": {
       "model_id": "b4a1c059618046c9b72309a755af8802",
       "version_major": 2,
       "version_minor": 0
      },
      "text/plain": [
       "Text(value='', description='Nombre de la imagen:', style=TextStyle(description_width='initial'))"
      ]
     },
     "metadata": {},
     "output_type": "display_data"
    },
    {
     "data": {
      "application/vnd.jupyter.widget-view+json": {
       "model_id": "17b4d4688e51411988cd8ebd2189a1c4",
       "version_major": 2,
       "version_minor": 0
      },
      "text/plain": [
       "Button(description='Guardar imagen', style=ButtonStyle())"
      ]
     },
     "metadata": {},
     "output_type": "display_data"
    }
   ],
   "source": [
    "# Plot interactivo\n",
    "def interactive_plot(steptime, finaltime):\n",
    "    # Respuesta al estado en un circuito RC\n",
    "    circuit = Circuit('Respuesta al estado. Circuito RC')\n",
    "\n",
    "    # Se definen los elementos\n",
    "    # Interruptor\n",
    "    circuit.model('switch', 'SW', Ron=1@u_mΩ, Roff=1@u_GΩ)\n",
    "    circuit.PulseVoltageSource(2, 'a', circuit.gnd, initial_value=1, pulsed_value=-1,\n",
    "                           pulse_width=finaltime@u_us, period=finaltime@u_us, delay_time=1@u_ns)\n",
    "    circuit.PulseVoltageSource(3, 'b', circuit.gnd, initial_value=-1, pulsed_value=1,\n",
    "                           pulse_width=finaltime@u_us, period=finaltime@u_us, delay_time=1@u_ns)\n",
    "    circuit.V(1, 1, circuit.gnd,   1@u_V)\n",
    "    circuit.VoltageControlledSwitch(1, 1, 'output', 'a', circuit.gnd, model='switch')\n",
    "    circuit.C(1, 'output', circuit.gnd, 10@u_nF)\n",
    "    circuit.VoltageControlledSwitch(2, 'output', 2, 'b', circuit.gnd, model='switch')\n",
    "    circuit.R(2, 2, circuit.gnd,           220@u_Ω)\n",
    "\n",
    "    # Se simula y analiza el circuito\n",
    "    simulator = circuit.simulator(temperature=25, nominal_temperature=25)\n",
    "    ic=0@u_V\n",
    "    simulator.initial_condition(output=ic)\n",
    "    analysis = simulator.transient(step_time=steptime@u_us, end_time=finaltime@u_us)\n",
    "\n",
    "    # Función teórica\n",
    "    t=np.array(analysis.time)\n",
    "    Vi=1\n",
    "    tau=220*10*10**(-9)\n",
    "    v_s=Vi*np.exp(-(t-10**(-9))/tau)\n",
    "\n",
    "    # Gráfica\n",
    "    global figure\n",
    "    figure, ax = plt.subplots(figsize=(7, 4))\n",
    "    ax.set_title('Respuesta al estado. Circuito RC')\n",
    "    ax.set_xlabel('Tiempo [ms]')\n",
    "    ax.set_ylabel('Voltaje [V]')\n",
    "    ax.grid()\n",
    "    ax.plot(analysis.time*1000, analysis['output'])\n",
    "    ax.plot(t*1000, v_s)\n",
    "    ax.legend(('output', 'teórico'), loc=(.05,.1))\n",
    "\n",
    "# Slider que varía el intervalo de tiempo entre puntos\n",
    "sliderStep = widgets.FloatSlider(\n",
    "    value=0.01, \n",
    "    min=0.01, \n",
    "    max=3, \n",
    "    step=0.01,\n",
    "    description='Step',\n",
    "    readout=True,\n",
    "    readout_format='.2f',\n",
    "    layout=widgets.Layout(width='500px')\n",
    ")\n",
    "# Slider que varía el tiempo final\n",
    "sliderFinal = widgets.FloatSlider(\n",
    "    value=8, \n",
    "    min=5, \n",
    "    max=12, \n",
    "    step=0.1,\n",
    "    description='Final',\n",
    "    readout=True,\n",
    "    readout_format='.2f',\n",
    "    layout=widgets.Layout(width='500px')\n",
    ")\n",
    "\n",
    "# Llama al plot y los sliders\n",
    "interact(interactive_plot, steptime=sliderStep, finaltime=sliderFinal)\n",
    "\n",
    "# Llama a la caja de texto y el botón de guardar imagen\n",
    "display(Text, button)"
   ]
  },
  {
   "cell_type": "markdown",
   "metadata": {},
   "source": [
    "Diagrama de Bode de un circuito RL con salida en R y en L"
   ]
  },
  {
   "cell_type": "code",
   "execution_count": 35,
   "metadata": {},
   "outputs": [
    {
     "data": {
      "text/plain": [
       "[Text(0, -3.141592653589793, '$-\\\\pi$'),\n",
       " Text(0, -1.5707963267948966, '$-\\\\frac{\\\\pi}{2}$'),\n",
       " Text(0, 0.0, '0'),\n",
       " Text(0, 1.5707963267948966, '$\\\\frac{\\\\pi}{2}$'),\n",
       " Text(0, 3.141592653589793, '$\\\\pi$')]"
      ]
     },
     "execution_count": 35,
     "metadata": {},
     "output_type": "execute_result"
    },
    {
     "data": {
      "image/png": "[encoded data removed]",
      "text/plain": [
       "<Figure size 1400x800 with 4 Axes>"
      ]
     },
     "metadata": {},
     "output_type": "display_data"
    }
   ],
   "source": [
    "figure, axes = plt.subplots(2, 2, figsize=(14, 8))\n",
    "\n",
    "# Circuito 1. RL con salida en R\n",
    "circuit = Circuit('RL con salida en R')\n",
    "\n",
    "# Se definen los elementos\n",
    "source = circuit.SinusoidalVoltageSource(1, 'in', circuit.gnd, amplitude=10@u_V)\n",
    "circuit.L(1, 'in', 'out', 10@u_mH)\n",
    "circuit.R(1, 'out', circuit.gnd, 220@u_Ω)\n",
    "\n",
    "# Se simula y analiza el circuito\n",
    "simulator = circuit.simulator(temperature=25, nominal_temperature=25)\n",
    "analysis = simulator.ac(start_frequency=10@u_Hz, stop_frequency=1@u_MHz, number_of_points=20,  variation='dec')\n",
    "\n",
    "# Circuito 2. RL con salida en L\n",
    "circuit2 = Circuit('RL con salida en L')\n",
    "\n",
    "# Se definen los elementos\n",
    "source2 = circuit2.SinusoidalVoltageSource(1, 'in', circuit.gnd, amplitude=10@u_V)\n",
    "circuit2.R(1, 'in', 'out', 220@u_Ω)\n",
    "circuit2.L(1, 'out', circuit.gnd, 10@u_mH)\n",
    "\n",
    "# Se simula y analiza el circuito\n",
    "simulator2 = circuit2.simulator(temperature=25, nominal_temperature=25)\n",
    "analysis2 = simulator2.ac(start_frequency=10@u_Hz, stop_frequency=1@u_MHz, number_of_points=20,  variation='dec')\n",
    "\n",
    "# Se realizan los diagramas de Bode para ambos circuitos\n",
    "bode_diagram(axes=(axes[0,0],axes[1,0]),\n",
    "             frequency=analysis.frequency,\n",
    "             gain=20*np.log10(np.absolute(analysis['out'])),\n",
    "             phase=np.angle(analysis['out'], deg=False),\n",
    "             marker='.',\n",
    "             color='magenta',\n",
    "             linestyle='-'\n",
    "            )\n",
    "axes[0,0].set_title('RL con salida en R')\n",
    "bode_diagram(axes=(axes[0,1],axes[1,1]),\n",
    "             frequency=analysis2.frequency,\n",
    "             gain=20*np.log10(np.absolute(analysis2['out'])),\n",
    "             phase=np.angle(analysis2['out'], deg=False),\n",
    "             marker='.',\n",
    "             color='magenta',\n",
    "             linestyle='-'\n",
    "            )\n",
    "axes[0,1].set_title('RL con salida en L')\n",
    "axes[1,0].set_ylim(-np.pi, np.pi)\n",
    "axes[1,0].set_yticks(np.linspace(-np.pi, np.pi, 5))\n",
    "axes[1,0].set_yticklabels(axes[1,1].get_yticklabels())"
   ]
  },
  {
   "cell_type": "markdown",
   "metadata": {},
   "source": [
    "Diagrama de Bode de un circuito RC con salida en C"
   ]
  },
  {
   "cell_type": "code",
   "execution_count": 36,
   "metadata": {},
   "outputs": [
    {
     "data": {
      "text/plain": [
       "[Text(0, -3.141592653589793, '$-\\\\pi$'),\n",
       " Text(0, -1.5707963267948966, '$-\\\\frac{\\\\pi}{2}$'),\n",
       " Text(0, 0.0, '0'),\n",
       " Text(0, 1.5707963267948966, '$\\\\frac{\\\\pi}{2}$'),\n",
       " Text(0, 3.141592653589793, '$\\\\pi$')]"
      ]
     },
     "execution_count": 36,
     "metadata": {},
     "output_type": "execute_result"
    },
    {
     "data": {
      "image/png": "[encoded data removed]",
      "text/plain": [
       "<Figure size 1400x800 with 4 Axes>"
      ]
     },
     "metadata": {},
     "output_type": "display_data"
    }
   ],
   "source": [
    "figure, axes = plt.subplots(2, 2, figsize=(14, 8))\n",
    "\n",
    "# Circuito 1. RC con salida en R\n",
    "circuit = Circuit('RC con salida en R')\n",
    "\n",
    "# Se definen los elementos\n",
    "source = circuit.SinusoidalVoltageSource(1, 'in', circuit.gnd, amplitude=10@u_V)\n",
    "circuit.C(1, 'in', 'out', 10@u_nF)\n",
    "circuit.R(1, 'out', circuit.gnd, 220@u_Ω)\n",
    "\n",
    "# Se simula y analiza el circuito\n",
    "simulator = circuit.simulator(temperature=25, nominal_temperature=25)\n",
    "analysis = simulator.ac(start_frequency=10@u_Hz, stop_frequency=10@u_MHz, number_of_points=20,  variation='dec')\n",
    "\n",
    "# Circuito 2. RC con salida en C\n",
    "circuit2 = Circuit('RC con salida en C')\n",
    "\n",
    "# Se definen los elementos\n",
    "source2 = circuit2.SinusoidalVoltageSource(1, 'in', circuit.gnd, amplitude=10@u_V)\n",
    "circuit2.R(1, 'in', 'out', 220@u_Ω)\n",
    "circuit2.C(1, 'out', circuit.gnd, 10@u_nF)\n",
    "\n",
    "# Se simula y analiza el circuito\n",
    "simulator2 = circuit2.simulator(temperature=25, nominal_temperature=25)\n",
    "analysis2 = simulator2.ac(start_frequency=10@u_Hz, stop_frequency=10@u_MHz, number_of_points=20,  variation='dec')\n",
    "\n",
    "# Se realizan los diagramas de Bode para ambos circuitos\n",
    "bode_diagram(axes=(axes[0,0],axes[1,0]),\n",
    "             frequency=analysis.frequency,\n",
    "             gain=20*np.log10(np.absolute(analysis['out'])),\n",
    "             phase=np.angle(analysis['out'], deg=False),\n",
    "             marker='.',\n",
    "             color='magenta',\n",
    "             linestyle='-'\n",
    "            )\n",
    "axes[0,0].set_title('RC con salida en R')\n",
    "bode_diagram(axes=(axes[0,1],axes[1,1]),\n",
    "             frequency=analysis2.frequency,\n",
    "             gain=20*np.log10(np.absolute(analysis2['out'])),\n",
    "             phase=np.angle(analysis2['out'], deg=False),\n",
    "             marker='.',\n",
    "             color='magenta',\n",
    "             linestyle='-'\n",
    "            )\n",
    "axes[0,1].set_title('RC con salida en C')\n",
    "axes[1,0].set_ylim(-np.pi, np.pi)\n",
    "axes[1,0].set_yticks(np.linspace(-np.pi, np.pi, 5))\n",
    "axes[1,0].set_yticklabels(axes[1,1].get_yticklabels())"
   ]
  },
  {
   "cell_type": "markdown",
   "metadata": {},
   "source": [
    "Voltaje de salida en R y en L de un circuito RL"
   ]
  },
  {
   "cell_type": "code",
   "execution_count": 37,
   "metadata": {},
   "outputs": [
    {
     "data": {
      "application/vnd.jupyter.widget-view+json": {
       "model_id": "e381d40386a8470289c76b1cb30db497",
       "version_major": 2,
       "version_minor": 0
      },
      "text/plain": [
       "interactive(children=(FloatSlider(value=5.0, description='freqR', layout=Layout(width='500px'), max=10.0, min=…"
      ]
     },
     "metadata": {},
     "output_type": "display_data"
    },
    {
     "data": {
      "application/vnd.jupyter.widget-view+json": {
       "model_id": "b4a1c059618046c9b72309a755af8802",
       "version_major": 2,
       "version_minor": 0
      },
      "text/plain": [
       "Text(value='', description='Nombre de la imagen:', style=TextStyle(description_width='initial'))"
      ]
     },
     "metadata": {},
     "output_type": "display_data"
    },
    {
     "data": {
      "application/vnd.jupyter.widget-view+json": {
       "model_id": "17b4d4688e51411988cd8ebd2189a1c4",
       "version_major": 2,
       "version_minor": 0
      },
      "text/plain": [
       "Button(description='Guardar imagen', style=ButtonStyle())"
      ]
     },
     "metadata": {},
     "output_type": "display_data"
    }
   ],
   "source": [
    "# Plot interactivo\n",
    "def plot(freqR, freqL):\n",
    "    global figure\n",
    "    figure, (ax, ax2) = plt.subplots(2, 1, figsize=(7, 10))\n",
    "\n",
    "    # Circuito 1. RL con salida en R\n",
    "    circuit = Circuit('RL con salida en R')\n",
    "\n",
    "    # Se definen los elementos\n",
    "    source = circuit.SinusoidalVoltageSource(1, 'in', circuit.gnd, amplitude=10@u_V, frequency=freqR@u_kHz)\n",
    "    circuit.L(1, 'in', 'out', 10@u_mH)\n",
    "    circuit.R(1, 'out', circuit.gnd, 220@u_Ω)\n",
    "\n",
    "    # Se simula y analiza el circuito\n",
    "    simulator = circuit.simulator(temperature=25, nominal_temperature=25)\n",
    "    analysis = simulator.transient(step_time=source.period/200, end_time=source.period*2)\n",
    "\n",
    "    # Gráfica\n",
    "    ax.set_title('RL con salida en R')\n",
    "    ax.set_xlabel('Tiempo [ms]')\n",
    "    ax.set_ylabel('Voltaje [V]')\n",
    "    ax.grid()\n",
    "    ax.plot(analysis.time*1000, analysis['in'])\n",
    "    ax.plot(analysis.time*1000, analysis['out'])\n",
    "    ax.legend(('input', 'output'), loc=(.05,.1))\n",
    "    ax.set_ylim(float(-source.amplitude*1.1), float(source.amplitude*1.1))\n",
    "\n",
    "    # Circuito 2. RL con salida en L\n",
    "    circuit2 = Circuit('RL con salida en L')\n",
    "\n",
    "    # Se definen los elementos\n",
    "    source2 = circuit2.SinusoidalVoltageSource(1, 'in', circuit.gnd, amplitude=10@u_V, frequency=freqL@u_kHz)\n",
    "    circuit2.R(1, 'in', 'out', 220@u_Ω)\n",
    "    circuit2.L(1, 'out', circuit.gnd, 10@u_mH)\n",
    "\n",
    "    # Se simula y analiza el circuito\n",
    "    simulator2 = circuit2.simulator(temperature=25, nominal_temperature=25)\n",
    "    analysis2 = simulator2.transient(step_time=source2.period/200, end_time=source2.period*2)\n",
    "\n",
    "    # Gráfica\n",
    "    ax2.set_title('RL con salida en L')\n",
    "    ax2.set_xlabel('Tiempo [ms]')\n",
    "    ax2.set_ylabel('Voltaje [V]')\n",
    "    ax2.grid()\n",
    "    ax2.plot(analysis2.time*1000, analysis2['in'])\n",
    "    ax2.plot(analysis2.time*1000, analysis2['out'])\n",
    "    ax2.legend(('input', 'output'), loc=(.05,.1))\n",
    "    ax2.set_ylim(float(-source.amplitude*1.1), float(source.amplitude*1.1))\n",
    "\n",
    "# Slider frecuencia del circuito 1\n",
    "sliderR = widgets.FloatSlider(\n",
    "    value=5, \n",
    "    min=0.01, \n",
    "    max=10, \n",
    "    step=0.01,\n",
    "    readout=True,\n",
    "    readout_format='.2f',\n",
    "    layout=widgets.Layout(width='500px')\n",
    ")\n",
    "# Slider frecuencia del circuito 2\n",
    "sliderL = widgets.FloatSlider(\n",
    "    value=5, \n",
    "    min=0.01, \n",
    "    max=10, \n",
    "    step=0.01,\n",
    "    readout=True,\n",
    "    readout_format='.2f',\n",
    "    layout=widgets.Layout(width='500px')\n",
    ")\n",
    "# Llama al plot y los sliders\n",
    "interact(plot, freqR=sliderR, freqL=sliderL)\n",
    "# Llama a la caja de texto y el botón de guardar imagen\n",
    "display(Text, button)"
   ]
  },
  {
   "cell_type": "markdown",
   "metadata": {},
   "source": [
    "Voltaje de salida en R y en C de un circuito RC"
   ]
  },
  {
   "cell_type": "code",
   "execution_count": 38,
   "metadata": {},
   "outputs": [
    {
     "data": {
      "application/vnd.jupyter.widget-view+json": {
       "model_id": "003a97097dea4a21b8a052f1534a2103",
       "version_major": 2,
       "version_minor": 0
      },
      "text/plain": [
       "interactive(children=(FloatSlider(value=60.0, description='freqR', layout=Layout(width='500px'), max=200.0, mi…"
      ]
     },
     "metadata": {},
     "output_type": "display_data"
    },
    {
     "data": {
      "application/vnd.jupyter.widget-view+json": {
       "model_id": "b4a1c059618046c9b72309a755af8802",
       "version_major": 2,
       "version_minor": 0
      },
      "text/plain": [
       "Text(value='', description='Nombre de la imagen:', style=TextStyle(description_width='initial'))"
      ]
     },
     "metadata": {},
     "output_type": "display_data"
    },
    {
     "data": {
      "application/vnd.jupyter.widget-view+json": {
       "model_id": "17b4d4688e51411988cd8ebd2189a1c4",
       "version_major": 2,
       "version_minor": 0
      },
      "text/plain": [
       "Button(description='Guardar imagen', style=ButtonStyle())"
      ]
     },
     "metadata": {},
     "output_type": "display_data"
    }
   ],
   "source": [
    "# Plot interactivo\n",
    "def plot(freqR, freqC):\n",
    "    global figure\n",
    "    figure, (ax, ax2) = plt.subplots(2, 1, figsize=(7, 10))\n",
    "\n",
    "    # Circuito 1. RC con salida en R\n",
    "    circuit = Circuit('RC con salida en R')\n",
    "\n",
    "    # Se definen los elementos\n",
    "    source = circuit.SinusoidalVoltageSource(1, 'in', circuit.gnd, amplitude=10@u_V, frequency=freqR@u_kHz)\n",
    "    circuit.C(1, 'in', 'out', 10@u_nF)\n",
    "    circuit.R(1, 'out', circuit.gnd, 220@u_Ω)\n",
    "\n",
    "    # Se simula y analiza el circuito\n",
    "    simulator = circuit.simulator(temperature=25, nominal_temperature=25)\n",
    "    analysis = simulator.transient(step_time=source.period/200, end_time=source.period*2)\n",
    "\n",
    "    # Gráfica\n",
    "    ax.set_title('RC con salida en R')\n",
    "    ax.set_xlabel('Tiempo [ms]')\n",
    "    ax.set_ylabel('Voltaje [V]')\n",
    "    ax.grid()\n",
    "    ax.plot(analysis.time*1000, analysis['in'])\n",
    "    ax.plot(analysis.time*1000, analysis['out'])\n",
    "    ax.legend(('input', 'output'), loc=(.05,.1))\n",
    "    ax.set_ylim(float(-source.amplitude*1.1), float(source.amplitude*1.1))\n",
    "\n",
    "    # Circuito 2. RC con salida en C\n",
    "    circuit2 = Circuit('RC con salida en C')\n",
    "\n",
    "    # Se definen los elementos\n",
    "    source2 = circuit2.SinusoidalVoltageSource(1, 'in', circuit.gnd, amplitude=10@u_V, frequency=freqC@u_kHz)\n",
    "    circuit2.R(1, 'in', 'out', 220@u_Ω)\n",
    "    circuit2.C(1, 'out', circuit.gnd, 10@u_nF)\n",
    "\n",
    "    # Se simula y analiza el circuito\n",
    "    simulator2 = circuit2.simulator(temperature=25, nominal_temperature=25)\n",
    "    analysis2 = simulator2.transient(step_time=source2.period/200, end_time=source2.period*2)\n",
    "\n",
    "    # Gráfica\n",
    "    ax2.set_title('RC con salida en C')\n",
    "    ax2.set_xlabel('Tiempo [ms]')\n",
    "    ax2.set_ylabel('Voltaje [V]')\n",
    "    ax2.grid()\n",
    "    ax2.plot(analysis2.time*1000, analysis2['in'])\n",
    "    ax2.plot(analysis2.time*1000, analysis2['out'])\n",
    "    ax2.legend(('input', 'output'), loc=(.05,.1))\n",
    "    ax2.set_ylim(float(-source.amplitude*1.1), float(source.amplitude*1.1))\n",
    "\n",
    "# Slider frecuencia del circuito 1\n",
    "sliderR = widgets.FloatSlider(\n",
    "    value=60, \n",
    "    min=15, \n",
    "    max=200, \n",
    "    step=0.01,\n",
    "    readout=True,\n",
    "    readout_format='.2f',\n",
    "    layout=widgets.Layout(width='500px')\n",
    ")\n",
    "# Slider frecuencia del circuito 2\n",
    "sliderL = widgets.FloatSlider(\n",
    "    value=60, \n",
    "    min=15, \n",
    "    max=200, \n",
    "    step=0.01,\n",
    "    readout=True,\n",
    "    readout_format='.2f',\n",
    "    layout=widgets.Layout(width='500px')\n",
    ")\n",
    "\n",
    "# Llama al plot y los sliders\n",
    "interact(plot, freqR=sliderR, freqC=sliderL)\n",
    "\n",
    "# Llama a la caja de texto y el botón de guardar imagen\n",
    "display(Text, button)"
   ]
  }
 ],
 "metadata": {
  "kernelspec": {
   "display_name": "Python 3",
   "language": "python",
   "name": "python3"
  },
  "language_info": {
   "codemirror_mode": {
    "name": "ipython",
    "version": 3
   },
   "file_extension": ".py",
   "mimetype": "text/x-python",
   "name": "python",
   "nbconvert_exporter": "python",
   "pygments_lexer": "ipython3",
   "version": "3.12.0b4"
  }
 },
 "nbformat": 4,
 "nbformat_minor": 2
}
