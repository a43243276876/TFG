{
 "cells": [
  {
   "cell_type": "code",
   "execution_count": 18,
   "metadata": {},
   "outputs": [],
   "source": [
    "import math\n",
    "import cmath\n",
    "\n",
    "import numpy as np\n",
    "import matplotlib.pyplot as plt\n",
    "\n",
    "import ipywidgets as widgets\n",
    "from ipywidgets import interact\n",
    "\n",
    "from PySpice.Plot.BodeDiagram import bode_diagram\n",
    "from PySpice.Spice.Netlist import Circuit\n",
    "from PySpice.Unit import *\n",
    "import PySpice.Logging.Logging as Logging\n",
    "logger = Logging.setup_logging()"
   ]
  },
  {
   "cell_type": "code",
   "execution_count": 19,
   "metadata": {},
   "outputs": [],
   "source": [
    "# Texto en el botón\n",
    "button = widgets.Button(description=\"Guardar imagen\")\n",
    "\n",
    "# Texto indicando el nombre a asignar a la imagen junto a la caja de texto\n",
    "Text = widgets.Text(\n",
    "    value='',\n",
    "    description='Nombre de la imagen:',\n",
    "    disabled=False,\n",
    "    style= {'description_width': 'initial'}\n",
    ")\n",
    "\n",
    "# Botón para guardar la imagen, utilizando el texto que se ha escrito en la caja de texto como nombre\n",
    "@button.on_click\n",
    "def on_button_clicked(rest):\n",
    "    global figure\n",
    "    figure.savefig(Text.value + \".png\")"
   ]
  },
  {
   "cell_type": "markdown",
   "metadata": {},
   "source": [
    "Respuesta a un escalón unitario de entrada con salida en C."
   ]
  },
  {
   "cell_type": "code",
   "execution_count": 29,
   "metadata": {},
   "outputs": [
    {
     "data": {
      "application/vnd.jupyter.widget-view+json": {
       "model_id": "5451876bec49475a8bcb5b9a327946c4",
       "version_major": 2,
       "version_minor": 0
      },
      "text/plain": [
       "interactive(children=(FloatSlider(value=220.0, description='R', layout=Layout(width='500px'), max=500.0, min=0…"
      ]
     },
     "metadata": {},
     "output_type": "display_data"
    },
    {
     "data": {
      "application/vnd.jupyter.widget-view+json": {
       "model_id": "814a5c2aebff4642bea69acd81676313",
       "version_major": 2,
       "version_minor": 0
      },
      "text/plain": [
       "Text(value='', description='Nombre de la imagen:', style=TextStyle(description_width='initial'))"
      ]
     },
     "metadata": {},
     "output_type": "display_data"
    },
    {
     "data": {
      "application/vnd.jupyter.widget-view+json": {
       "model_id": "085da68adc4b401aba0f9bc678703ba8",
       "version_major": 2,
       "version_minor": 0
      },
      "text/plain": [
       "Button(description='Guardar imagen', style=ButtonStyle())"
      ]
     },
     "metadata": {},
     "output_type": "display_data"
    }
   ],
   "source": [
    "# Plot interactivo\n",
    "def interactive_plot(R, L, C, finaltime):\n",
    "\n",
    "    # Respuesta escalón en un circuito RLC\n",
    "    circuit = Circuit('Respuesta a escalón unidad. RLC con salida en C')\n",
    "    \n",
    "    # Se definen los elementos\n",
    "    # Interruptor\n",
    "    circuit.model('switch', 'SW', Ron=1@u_mΩ, Roff=1@u_GΩ)\n",
    "    circuit.PulseVoltageSource(1, 's', circuit.gnd, initial_value=-1, pulsed_value=1,\n",
    "                               pulse_width=finaltime@u_ms, period=finaltime@u_ms, delay_time=0@u_ms)\n",
    "    circuit.V(2, 'in', circuit.gnd, 1@u_V)\n",
    "    circuit.VoltageControlledSwitch(1, 'in', 'a', 's', circuit.gnd, model='switch')\n",
    "    circuit.L(1, 'a', 'b', L@u_mH)\n",
    "    circuit.R(1, 'b', 'output', R@u_Ω)\n",
    "    circuit.C(1, 'output', circuit.gnd, C@u_nF)\n",
    "\n",
    "    # Se simula y analiza el circuito\n",
    "    simulator = circuit.simulator(temperature=25, nominal_temperature=25)\n",
    "    ic=0@u_V\n",
    "    simulator.initial_condition(output=ic)\n",
    "    analysis = simulator.transient(step_time=0.1@u_us, end_time=finaltime@u_ms)\n",
    "\n",
    "    # Función teórica\n",
    "    time=np.array(analysis.time)\n",
    "    alpha = R/(2*L*10**(-3))\n",
    "    omega0 = np.sqrt(1/(L*C*10**(-12)))\n",
    "\n",
    "    if alpha == omega0:\n",
    "        Vf = 1\n",
    "        s1 = -alpha+np.sqrt(alpha**2-omega0**2)\n",
    "        s2 = -alpha-np.sqrt(alpha**2-omega0**2)\n",
    "        D2 = -Vf\n",
    "        D1 = alpha*D2\n",
    "        v_s = Vf+D1*time*np.exp(-alpha*time)+D2*np.exp(-alpha*time)\n",
    "        \n",
    "    elif alpha > omega0:\n",
    "        Vf = 1\n",
    "        s1 = -alpha+np.sqrt(alpha**2-omega0**2)\n",
    "        s2 = -alpha-np.sqrt(alpha**2-omega0**2)\n",
    "        A2 = (s1/(s2-s1))*Vf\n",
    "        A1 = -Vf-A2\n",
    "        v_s = Vf+A1*np.exp(s1*time)+A2*np.exp(s2*time)\n",
    "\n",
    "    else:\n",
    "        Vf = 1\n",
    "        omegad = np.sqrt(omega0**2-alpha**2)\n",
    "        s1 = -alpha+cmath.sqrt(alpha**2-omega0**2)\n",
    "        s2 = -alpha-cmath.sqrt(alpha**2-omega0**2)\n",
    "        B1 = -Vf\n",
    "        B2 = alpha*B1/omegad\n",
    "        v_s  = Vf+B1*np.exp(-alpha*time)*np.cos(omegad*time)+B2*np.exp(-alpha*time)*np.sin(omegad*time)\n",
    "\n",
    "\n",
    "    global figure\n",
    "    figure, ax = plt.subplots(figsize=(7, 4))\n",
    "\n",
    "    # Gráfica\n",
    "    ax.set_title('Voltaje en C')\n",
    "    ax.set_xlabel('Tiempo [ms]')\n",
    "    ax.set_ylabel('Voltaje [V]')\n",
    "    ax.grid()\n",
    "    ax.plot(analysis.time, analysis['in'])\n",
    "    ax.plot(analysis.time, analysis['output'])\n",
    "    ax.plot(time, v_s)\n",
    "    ax.legend(('input','output', 'teórico'), loc=(.8,.1))\n",
    "\n",
    "# Slider que varía la resistencia\n",
    "sliderR = widgets.FloatSlider(\n",
    "    value=220, \n",
    "    min=0.01, \n",
    "    max=500, \n",
    "    step=0.01,\n",
    "    description='R',\n",
    "    readout=True,\n",
    "    readout_format='.2f',\n",
    "    layout=widgets.Layout(width='500px')\n",
    ")\n",
    "\n",
    "# Slider que varía la inductancia eléctrica\n",
    "sliderL = widgets.FloatSlider(\n",
    "    value=10, \n",
    "    min=0.01, \n",
    "    max=10, \n",
    "    step=0.01,\n",
    "    description='L',\n",
    "    readout=True,\n",
    "    readout_format='.2f',\n",
    "    layout=widgets.Layout(width='500px')\n",
    ")\n",
    "\n",
    "# Slider que varía la capacidad eléctrica\n",
    "sliderC = widgets.FloatSlider(\n",
    "    value=10, \n",
    "    min=0.01, \n",
    "    max=1000, \n",
    "    step=0.01,\n",
    "    description='C',\n",
    "    readout=True,\n",
    "    readout_format='.2f',\n",
    "    layout=widgets.Layout(width='500px')\n",
    ")\n",
    "\n",
    "# Slider que varía el tiempo final\n",
    "sliderFinal = widgets.FloatSlider(\n",
    "    value=0.6, \n",
    "    min=0.01, \n",
    "    max=10, \n",
    "    step=0.01,\n",
    "    description='Final',\n",
    "    readout=True,\n",
    "    readout_format='.2f',\n",
    "    layout=widgets.Layout(width='500px')\n",
    ")\n",
    "\n",
    "# Llama al plot y los sliders\n",
    "interact(interactive_plot, R=sliderR, L=sliderL, C=sliderC, finaltime=sliderFinal)\n",
    "\n",
    "# Llama a la caja de texto y el botón de guardar imagen\n",
    "display(Text, button)"
   ]
  },
  {
   "cell_type": "markdown",
   "metadata": {},
   "source": [
    "220 ohmios 10mH 10nF             Tiempo 0.5ms           Subamortiguado\n",
    "\n",
    "220 ohmios 1mH  1µF              Tiempo 1.2ms           Sobreamortiguado\n",
    "\n",
    "200 ohmios 10mH 1µF              Tiempo 1ms             Críticamente amortiguado"
   ]
  },
  {
   "cell_type": "markdown",
   "metadata": {},
   "source": [
    "Diagrama de Bode de un circuito RLC con salida en R, L y C"
   ]
  },
  {
   "cell_type": "code",
   "execution_count": 30,
   "metadata": {},
   "outputs": [
    {
     "data": {
      "text/plain": [
       "[Text(0, -3.141592653589793, '$-\\\\pi$'),\n",
       " Text(0, -1.5707963267948966, '$-\\\\frac{\\\\pi}{2}$'),\n",
       " Text(0, 0.0, '0'),\n",
       " Text(0, 1.5707963267948966, '$\\\\frac{\\\\pi}{2}$'),\n",
       " Text(0, 3.141592653589793, '$\\\\pi$')]"
      ]
     },
     "execution_count": 30,
     "metadata": {},
     "output_type": "execute_result"
    },
    {
     "data": {
      "image/png": "[encoded data removed]",
      "text/plain": [
       "<Figure size 2100x800 with 6 Axes>"
      ]
     },
     "metadata": {},
     "output_type": "display_data"
    }
   ],
   "source": [
    "figure, axes = plt.subplots(2, 3, figsize=(21, 8))\n",
    "\n",
    "# Circuito 1. RLC con salida en C\n",
    "circuit = Circuit('RLC con salida en C')\n",
    "\n",
    "# Se definen los elementos\n",
    "source = circuit.SinusoidalVoltageSource(1, 'in', circuit.gnd, amplitude=10@u_V)\n",
    "circuit.L(1, 'in', 1, 10@u_mH)\n",
    "circuit.R(1, 1, 'out', 220@u_Ω)\n",
    "circuit.C(1, 'out', circuit.gnd, 10@u_nF)\n",
    "\n",
    "# Se simula y analiza el circuito\n",
    "simulator = circuit.simulator(temperature=25, nominal_temperature=25)\n",
    "analysis = simulator.ac(start_frequency=10@u_Hz, stop_frequency=1@u_MHz, number_of_points=20,  variation='dec')\n",
    "\n",
    "# Circuito 2. RLC con salida en L\n",
    "circuit2 = Circuit('RLC con salida en L')\n",
    "\n",
    "# Se definen los elementos\n",
    "source2 = circuit2.SinusoidalVoltageSource(1, 'in', circuit.gnd, amplitude=10@u_V)\n",
    "circuit2.C(1, 'in', 1, 10@u_nF)\n",
    "circuit2.R(1, 1, 'out', 220@u_Ω)\n",
    "circuit2.L(1, 'out', circuit.gnd, 10@u_mH)\n",
    "\n",
    "# Se simula y analiza el circuito\n",
    "simulator2 = circuit2.simulator(temperature=25, nominal_temperature=25)\n",
    "analysis2 = simulator2.ac(start_frequency=10@u_Hz, stop_frequency=1@u_MHz, number_of_points=20,  variation='dec')\n",
    "\n",
    "# Circuito 3. RLC con salida en R\n",
    "circuit3 = Circuit('RLC con salida en R')\n",
    "\n",
    "# Se definen los elementos\n",
    "source3 = circuit3.SinusoidalVoltageSource(1, 'in', circuit.gnd, amplitude=10@u_V)\n",
    "circuit3.C(1, 'in', 1, 10@u_nF)\n",
    "circuit3.L(1, 1, 'out', 10@u_mH)\n",
    "circuit3.R(1, 'out', circuit.gnd, 220@u_Ω)\n",
    "\n",
    "# Se simula y analiza el circuito\n",
    "simulator3 = circuit3.simulator(temperature=25, nominal_temperature=25)\n",
    "analysis3 = simulator3.ac(start_frequency=10@u_Hz, stop_frequency=1@u_MHz, number_of_points=20,  variation='dec')\n",
    "\n",
    "# Se realizan los diagramas de Bode para los circuitos\n",
    "bode_diagram(axes=(axes[0,0],axes[1,0]),\n",
    "             frequency=analysis.frequency,\n",
    "             gain=20*np.log10(np.absolute(analysis['out'])),\n",
    "             phase=np.angle(analysis['out'], deg=False),\n",
    "             marker='.',\n",
    "             color='magenta',\n",
    "             linestyle='-'\n",
    "            )\n",
    "axes[0,0].set_title('RLC con salida en C')\n",
    "\n",
    "bode_diagram(axes=(axes[0,1],axes[1,1]),\n",
    "             frequency=analysis2.frequency,\n",
    "             gain=20*np.log10(np.absolute(analysis2['out'])),\n",
    "             phase=np.angle(analysis2['out'], deg=False),\n",
    "             marker='.',\n",
    "             color='magenta',\n",
    "             linestyle='-'\n",
    "            )\n",
    "axes[0,1].set_title('RLC con salida en L')\n",
    "\n",
    "bode_diagram(axes=(axes[0,2],axes[1,2]),\n",
    "             frequency=analysis3.frequency,\n",
    "             gain=20*np.log10(np.absolute(analysis3['out'])),\n",
    "             phase=np.angle(analysis3['out'], deg=False),\n",
    "             marker='.',\n",
    "             color='magenta',\n",
    "             linestyle='-'\n",
    "            )\n",
    "axes[0,2].set_title('RLC con salida en R')\n",
    "axes[1,0].set_ylim(-np.pi, np.pi)\n",
    "axes[1,0].set_yticks(np.linspace(-np.pi, np.pi, 5))\n",
    "axes[1,0].set_yticklabels(axes[1,2].get_yticklabels())\n",
    "axes[1,1].set_ylim(-np.pi, np.pi)\n",
    "axes[1,1].set_yticks(np.linspace(-np.pi, np.pi, 5))\n",
    "axes[1,1].set_yticklabels(axes[1,2].get_yticklabels())"
   ]
  },
  {
   "cell_type": "markdown",
   "metadata": {},
   "source": [
    "Voltaje de salida en R, L y C de un circuito RLC"
   ]
  },
  {
   "cell_type": "code",
   "execution_count": 24,
   "metadata": {},
   "outputs": [
    {
     "data": {
      "application/vnd.jupyter.widget-view+json": {
       "model_id": "d28b46330c6f43359b69360aee34d6ee",
       "version_major": 2,
       "version_minor": 0
      },
      "text/plain": [
       "interactive(children=(FloatSlider(value=15.0, description='freqC', layout=Layout(width='500px'), max=25.0, min…"
      ]
     },
     "metadata": {},
     "output_type": "display_data"
    },
    {
     "data": {
      "application/vnd.jupyter.widget-view+json": {
       "model_id": "814a5c2aebff4642bea69acd81676313",
       "version_major": 2,
       "version_minor": 0
      },
      "text/plain": [
       "Text(value='', description='Nombre de la imagen:', style=TextStyle(description_width='initial'))"
      ]
     },
     "metadata": {},
     "output_type": "display_data"
    },
    {
     "data": {
      "application/vnd.jupyter.widget-view+json": {
       "model_id": "085da68adc4b401aba0f9bc678703ba8",
       "version_major": 2,
       "version_minor": 0
      },
      "text/plain": [
       "Button(description='Guardar imagen', style=ButtonStyle())"
      ]
     },
     "metadata": {},
     "output_type": "display_data"
    }
   ],
   "source": [
    "# Plot interactivo\n",
    "def plot(freqC, freqL):\n",
    "    global figure\n",
    "    figure, (ax, ax2) = plt.subplots(2, 1, figsize=(7, 10))\n",
    "\n",
    "    # Circuito 1. RLC con salida en C\n",
    "    circuit = Circuit('RLC con salida en C')\n",
    "\n",
    "    # Se definen los elementos\n",
    "    source = circuit.SinusoidalVoltageSource(1, 'in', circuit.gnd, amplitude=10@u_V, frequency=freqC@u_kHz)\n",
    "    circuit.L(1, 'in', 1, 10@u_mH)\n",
    "    circuit.R(1, 1, 'out', 220@u_Ω)\n",
    "    circuit.C(1, 'out', circuit.gnd, 10@u_nF)\n",
    "    \n",
    "    # Se simula y analiza el circuito\n",
    "    simulator = circuit.simulator(temperature=25, nominal_temperature=25)\n",
    "    analysis = simulator.transient(step_time=source.period/200, end_time=source.period*2)\n",
    "\n",
    "    # Gráfica\n",
    "    ax.set_title('RLC con salida en C')\n",
    "    ax.set_xlabel('Tiempo [ms]')\n",
    "    ax.set_ylabel('Voltaje [V]')\n",
    "    ax.grid()\n",
    "    ax.plot(analysis.time*1000, analysis['in'])\n",
    "    ax.plot(analysis.time*1000, analysis['out'])\n",
    "    ax.legend(('input', 'output'), loc=(.05,.1))\n",
    "    ax.set_ylim(float(-source.amplitude*5), float(source.amplitude*5))\n",
    "\n",
    "    # Circuito 2. RLC con salida en L\n",
    "    circuit2 = Circuit('RLC con salida en L')\n",
    "\n",
    "    # Se definen los elementos\n",
    "    source2 = circuit2.SinusoidalVoltageSource(1, 'in', circuit.gnd, amplitude=10@u_V, frequency=freqL@u_kHz)\n",
    "    circuit2.C(1, 'in', 1, 10@u_nF)\n",
    "    circuit2.R(1, 1, 'out', 220@u_Ω)\n",
    "    circuit2.L(1, 'out', circuit.gnd, 10@u_mH)\n",
    "\n",
    "    # Se simula y analiza el circuito\n",
    "    simulator2 = circuit2.simulator(temperature=25, nominal_temperature=25)\n",
    "    analysis2 = simulator2.transient(step_time=source2.period/200, end_time=source2.period*2)\n",
    "\n",
    "    # Gráfica\n",
    "    ax2.set_title('RLC con salida en L')\n",
    "    ax2.set_xlabel('Tiempo [ms]')\n",
    "    ax2.set_ylabel('Voltaje [V]')\n",
    "    ax2.grid()\n",
    "    ax2.plot(analysis2.time*1000, analysis2['in'])\n",
    "    ax2.plot(analysis2.time*1000, analysis2['out'])\n",
    "    ax2.legend(('input', 'output'), loc=(.05,.1))\n",
    "    ax2.set_ylim(float(-source.amplitude*5), float(source.amplitude*5))\n",
    "\n",
    "# Slider frecuencia del circuito 1\n",
    "sliderC = widgets.FloatSlider(\n",
    "    value=15, \n",
    "    min=1, \n",
    "    max=25, \n",
    "    step=0.01,\n",
    "    readout=True,\n",
    "    readout_format='.2f',\n",
    "    layout=widgets.Layout(width='500px')\n",
    ")\n",
    "# Slider frecuencia del circuito 2\n",
    "sliderL = widgets.FloatSlider(\n",
    "    value=15, \n",
    "    min=5, \n",
    "    max=35, \n",
    "    step=0.01,\n",
    "    readout=True,\n",
    "    readout_format='.2f',\n",
    "    layout=widgets.Layout(width='500px')\n",
    ")\n",
    "\n",
    "# Llama al plot y los sliders\n",
    "interact(plot, freqC=sliderC, freqL=sliderL)\n",
    "\n",
    "# Llama a la caja de texto y el botón de guardar imagen\n",
    "display(Text, button)"
   ]
  },
  {
   "cell_type": "code",
   "execution_count": 23,
   "metadata": {},
   "outputs": [
    {
     "data": {
      "application/vnd.jupyter.widget-view+json": {
       "model_id": "8cab7d453f9b46a8aab23fab2ea10ed8",
       "version_major": 2,
       "version_minor": 0
      },
      "text/plain": [
       "interactive(children=(FloatSlider(value=15.0, description='freqR', layout=Layout(width='500px'), max=25.0, min…"
      ]
     },
     "metadata": {},
     "output_type": "display_data"
    },
    {
     "data": {
      "application/vnd.jupyter.widget-view+json": {
       "model_id": "814a5c2aebff4642bea69acd81676313",
       "version_major": 2,
       "version_minor": 0
      },
      "text/plain": [
       "Text(value='', description='Nombre de la imagen:', style=TextStyle(description_width='initial'))"
      ]
     },
     "metadata": {},
     "output_type": "display_data"
    },
    {
     "data": {
      "application/vnd.jupyter.widget-view+json": {
       "model_id": "085da68adc4b401aba0f9bc678703ba8",
       "version_major": 2,
       "version_minor": 0
      },
      "text/plain": [
       "Button(description='Guardar imagen', style=ButtonStyle())"
      ]
     },
     "metadata": {},
     "output_type": "display_data"
    }
   ],
   "source": [
    "# Plot interactivo\n",
    "def plot(freqR):\n",
    "    global figure\n",
    "    figure, ax = plt.subplots(figsize=(7, 4))\n",
    "\n",
    "    # RLC con salida en R\n",
    "    circuit = Circuit('RLC con salida en R')\n",
    "\n",
    "    # Se definen los elementos\n",
    "    source = circuit.SinusoidalVoltageSource(1, 'in', circuit.gnd, amplitude=10@u_V, frequency=freqR@u_kHz)\n",
    "    circuit.C(1, 'in', 1, 10@u_nF)\n",
    "    circuit.L(1, 1, 'out', 10@u_mH)\n",
    "    circuit.R(1, 'out', circuit.gnd, 220@u_Ω)\n",
    "    \n",
    "    # Se simula y analiza el circuito\n",
    "    simulator = circuit.simulator(temperature=25, nominal_temperature=25)\n",
    "    analysis = simulator.transient(step_time=source.period/200, end_time=source.period*2)\n",
    "\n",
    "    # Gráfica\n",
    "    ax.set_title('RLC con salida en R')\n",
    "    ax.set_xlabel('Tiempo [ms]')\n",
    "    ax.set_ylabel('Voltaje [V]')\n",
    "    ax.grid()\n",
    "    ax.plot(analysis.time*1000, analysis['in'])\n",
    "    ax.plot(analysis.time*1000, analysis['out'])\n",
    "    ax.legend(('input', 'output'), loc=(.05,.1))\n",
    "    ax.set_ylim(float(-source.amplitude*5), float(source.amplitude*5))\n",
    "\n",
    "# Slider frecuencia\n",
    "sliderR = widgets.FloatSlider(\n",
    "    value=15, \n",
    "    min=6, \n",
    "    max=25, \n",
    "    step=0.01,\n",
    "    readout=True,\n",
    "    readout_format='.2f',\n",
    "    layout=widgets.Layout(width='500px')\n",
    ")\n",
    "\n",
    "# Llama al plot y los sliders\n",
    "interact(plot, freqR=sliderR)\n",
    "\n",
    "# Llama a la caja de texto y el botón de guardar imagen\n",
    "display(Text, button)"
   ]
  }
 ],
 "metadata": {
  "kernelspec": {
   "display_name": "Python 3",
   "language": "python",
   "name": "python3"
  },
  "language_info": {
   "codemirror_mode": {
    "name": "ipython",
    "version": 3
   },
   "file_extension": ".py",
   "mimetype": "text/x-python",
   "name": "python",
   "nbconvert_exporter": "python",
   "pygments_lexer": "ipython3",
   "version": "3.12.0b4"
  }
 },
 "nbformat": 4,
 "nbformat_minor": 2
}
